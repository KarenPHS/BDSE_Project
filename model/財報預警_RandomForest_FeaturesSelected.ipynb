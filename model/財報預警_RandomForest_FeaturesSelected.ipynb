{
 "cells": [
  {
   "cell_type": "code",
   "execution_count": 6,
   "id": "a8ca9c07",
   "metadata": {},
   "outputs": [],
   "source": [
    "import pandas as pd\n",
    "\n",
    "\n",
    "from sklearn.model_selection import train_test_split\n",
    "from sklearn.metrics import mean_squared_error, r2_score ,accuracy_score"
   ]
  },
  {
   "cell_type": "code",
   "execution_count": 7,
   "id": "226bc9e3",
   "metadata": {},
   "outputs": [],
   "source": [
    "# data analysis\n",
    "import numpy as np\n",
    "import pandas as pd\n",
    "\n",
    "# visualization\n",
    "import matplotlib.pyplot as plt\n",
    "import seaborn as sns    \n",
    "%matplotlib inline\n",
    "\n",
    "# model\n",
    "# import xgboost as xgb\n",
    "# from xgboost import XGBClassifier\n",
    "from sklearn.ensemble import RandomForestClassifier\n",
    "\n",
    "from imblearn.over_sampling import SMOTE \n",
    "\n",
    "# 網格收尋(找模型最佳參數)\n",
    "from sklearn.model_selection import GridSearchCV,RandomizedSearchCV"
   ]
  },
  {
   "cell_type": "code",
   "execution_count": 8,
   "id": "9ddf7190",
   "metadata": {},
   "outputs": [],
   "source": [
    "from sklearn.pipeline import Pipeline\n",
    "\n",
    "# Normalization  標準化\n",
    "from sklearn.preprocessing import StandardScaler"
   ]
  },
  {
   "cell_type": "markdown",
   "id": "373e25e8",
   "metadata": {},
   "source": [
    "### 載入資料"
   ]
  },
  {
   "cell_type": "code",
   "execution_count": 9,
   "id": "7e03f55e",
   "metadata": {
    "scrolled": false
   },
   "outputs": [
    {
     "name": "stderr",
     "output_type": "stream",
     "text": [
      "/opt/anaconda3/lib/python3.7/site-packages/IPython/core/interactiveshell.py:3166: DtypeWarning: Columns (56) have mixed types.Specify dtype option on import or set low_memory=False.\n",
      "  interactivity=interactivity, compiler=compiler, result=result)\n"
     ]
    },
    {
     "data": {
      "text/html": [
       "<div>\n",
       "<style scoped>\n",
       "    .dataframe tbody tr th:only-of-type {\n",
       "        vertical-align: middle;\n",
       "    }\n",
       "\n",
       "    .dataframe tbody tr th {\n",
       "        vertical-align: top;\n",
       "    }\n",
       "\n",
       "    .dataframe thead th {\n",
       "        text-align: right;\n",
       "    }\n",
       "</style>\n",
       "<table border=\"1\" class=\"dataframe\">\n",
       "  <thead>\n",
       "    <tr style=\"text-align: right;\">\n",
       "      <th></th>\n",
       "      <th>Unnamed: 0</th>\n",
       "      <th>Current_Ratio</th>\n",
       "      <th>oper_cashflow_liab</th>\n",
       "      <th>current_liab_current_assets</th>\n",
       "      <th>working_capital_assets</th>\n",
       "      <th>Net_Sales_Assets</th>\n",
       "      <th>Receivables_Turnover_Ratio</th>\n",
       "      <th>Inventory_Turnover</th>\n",
       "      <th>Fixed_Assets_Turnover</th>\n",
       "      <th>net_worth_turnover_ratio</th>\n",
       "      <th>...</th>\n",
       "      <th>ratio_invest_assets</th>\n",
       "      <th>ratio_endorsement_equity</th>\n",
       "      <th>adj_laib_equity</th>\n",
       "      <th>ratio_director_shareholder_holding</th>\n",
       "      <th>ratio_majority shareholder</th>\n",
       "      <th>ratio_director_shareholder_Pledge</th>\n",
       "      <th>negative_two_years</th>\n",
       "      <th>crisis</th>\n",
       "      <th>time_q</th>\n",
       "      <th>company</th>\n",
       "    </tr>\n",
       "  </thead>\n",
       "  <tbody>\n",
       "    <tr>\n",
       "      <th>0</th>\n",
       "      <td>0</td>\n",
       "      <td>82.01</td>\n",
       "      <td>0.05</td>\n",
       "      <td>1.22</td>\n",
       "      <td>-0.02</td>\n",
       "      <td>0.20</td>\n",
       "      <td>5.87</td>\n",
       "      <td>11.06</td>\n",
       "      <td>0.32</td>\n",
       "      <td>0.61</td>\n",
       "      <td>...</td>\n",
       "      <td>0.20</td>\n",
       "      <td>0.32</td>\n",
       "      <td>102.82</td>\n",
       "      <td>58387.01</td>\n",
       "      <td>0.0</td>\n",
       "      <td>0.52</td>\n",
       "      <td>0</td>\n",
       "      <td>0</td>\n",
       "      <td>2001Q4</td>\n",
       "      <td>1101</td>\n",
       "    </tr>\n",
       "    <tr>\n",
       "      <th>1</th>\n",
       "      <td>1</td>\n",
       "      <td>69.77</td>\n",
       "      <td>0.01</td>\n",
       "      <td>1.43</td>\n",
       "      <td>-0.06</td>\n",
       "      <td>0.25</td>\n",
       "      <td>6.34</td>\n",
       "      <td>11.76</td>\n",
       "      <td>0.39</td>\n",
       "      <td>0.71</td>\n",
       "      <td>...</td>\n",
       "      <td>0.19</td>\n",
       "      <td>0.27</td>\n",
       "      <td>103.41</td>\n",
       "      <td>70659.26</td>\n",
       "      <td>0.0</td>\n",
       "      <td>0.57</td>\n",
       "      <td>0</td>\n",
       "      <td>0</td>\n",
       "      <td>2002Q4</td>\n",
       "      <td>1101</td>\n",
       "    </tr>\n",
       "    <tr>\n",
       "      <th>2</th>\n",
       "      <td>2</td>\n",
       "      <td>95.36</td>\n",
       "      <td>0.13</td>\n",
       "      <td>1.05</td>\n",
       "      <td>-0.01</td>\n",
       "      <td>0.31</td>\n",
       "      <td>7.04</td>\n",
       "      <td>16.28</td>\n",
       "      <td>0.48</td>\n",
       "      <td>0.82</td>\n",
       "      <td>...</td>\n",
       "      <td>0.17</td>\n",
       "      <td>0.30</td>\n",
       "      <td>74.31</td>\n",
       "      <td>79575.54</td>\n",
       "      <td>0.0</td>\n",
       "      <td>0.46</td>\n",
       "      <td>0</td>\n",
       "      <td>0</td>\n",
       "      <td>2003Q4</td>\n",
       "      <td>1101</td>\n",
       "    </tr>\n",
       "    <tr>\n",
       "      <th>3</th>\n",
       "      <td>3</td>\n",
       "      <td>139.54</td>\n",
       "      <td>0.11</td>\n",
       "      <td>0.72</td>\n",
       "      <td>0.05</td>\n",
       "      <td>0.35</td>\n",
       "      <td>7.43</td>\n",
       "      <td>16.37</td>\n",
       "      <td>0.54</td>\n",
       "      <td>0.86</td>\n",
       "      <td>...</td>\n",
       "      <td>0.15</td>\n",
       "      <td>0.29</td>\n",
       "      <td>67.76</td>\n",
       "      <td>77062.33</td>\n",
       "      <td>0.0</td>\n",
       "      <td>0.46</td>\n",
       "      <td>0</td>\n",
       "      <td>0</td>\n",
       "      <td>2004Q4</td>\n",
       "      <td>1101</td>\n",
       "    </tr>\n",
       "    <tr>\n",
       "      <th>4</th>\n",
       "      <td>4</td>\n",
       "      <td>143.47</td>\n",
       "      <td>0.10</td>\n",
       "      <td>0.70</td>\n",
       "      <td>0.06</td>\n",
       "      <td>0.19</td>\n",
       "      <td>8.13</td>\n",
       "      <td>12.18</td>\n",
       "      <td>0.61</td>\n",
       "      <td>0.97</td>\n",
       "      <td>...</td>\n",
       "      <td>0.02</td>\n",
       "      <td>0.28</td>\n",
       "      <td>60.07</td>\n",
       "      <td>78608.66</td>\n",
       "      <td>0.0</td>\n",
       "      <td>0.40</td>\n",
       "      <td>0</td>\n",
       "      <td>0</td>\n",
       "      <td>2005Q2</td>\n",
       "      <td>1101</td>\n",
       "    </tr>\n",
       "  </tbody>\n",
       "</table>\n",
       "<p>5 rows × 57 columns</p>\n",
       "</div>"
      ],
      "text/plain": [
       "   Unnamed: 0  Current_Ratio  oper_cashflow_liab  current_liab_current_assets  \\\n",
       "0           0          82.01                0.05                         1.22   \n",
       "1           1          69.77                0.01                         1.43   \n",
       "2           2          95.36                0.13                         1.05   \n",
       "3           3         139.54                0.11                         0.72   \n",
       "4           4         143.47                0.10                         0.70   \n",
       "\n",
       "   working_capital_assets  Net_Sales_Assets  Receivables_Turnover_Ratio  \\\n",
       "0                   -0.02              0.20                        5.87   \n",
       "1                   -0.06              0.25                        6.34   \n",
       "2                   -0.01              0.31                        7.04   \n",
       "3                    0.05              0.35                        7.43   \n",
       "4                    0.06              0.19                        8.13   \n",
       "\n",
       "   Inventory_Turnover  Fixed_Assets_Turnover  net_worth_turnover_ratio  ...  \\\n",
       "0               11.06                   0.32                      0.61  ...   \n",
       "1               11.76                   0.39                      0.71  ...   \n",
       "2               16.28                   0.48                      0.82  ...   \n",
       "3               16.37                   0.54                      0.86  ...   \n",
       "4               12.18                   0.61                      0.97  ...   \n",
       "\n",
       "   ratio_invest_assets  ratio_endorsement_equity  adj_laib_equity  \\\n",
       "0                 0.20                      0.32           102.82   \n",
       "1                 0.19                      0.27           103.41   \n",
       "2                 0.17                      0.30            74.31   \n",
       "3                 0.15                      0.29            67.76   \n",
       "4                 0.02                      0.28            60.07   \n",
       "\n",
       "   ratio_director_shareholder_holding  ratio_majority shareholder  \\\n",
       "0                            58387.01                         0.0   \n",
       "1                            70659.26                         0.0   \n",
       "2                            79575.54                         0.0   \n",
       "3                            77062.33                         0.0   \n",
       "4                            78608.66                         0.0   \n",
       "\n",
       "   ratio_director_shareholder_Pledge  negative_two_years  crisis  time_q  \\\n",
       "0                               0.52                   0       0  2001Q4   \n",
       "1                               0.57                   0       0  2002Q4   \n",
       "2                               0.46                   0       0  2003Q4   \n",
       "3                               0.46                   0       0  2004Q4   \n",
       "4                               0.40                   0       0  2005Q2   \n",
       "\n",
       "   company  \n",
       "0     1101  \n",
       "1     1101  \n",
       "2     1101  \n",
       "3     1101  \n",
       "4     1101  \n",
       "\n",
       "[5 rows x 57 columns]"
      ]
     },
     "execution_count": 9,
     "metadata": {},
     "output_type": "execute_result"
    }
   ],
   "source": [
    "dataset = pd.read_csv(\"./random_tarin +時間.csv\")\n",
    "\n",
    "dataset.head()"
   ]
  },
  {
   "cell_type": "code",
   "execution_count": 10,
   "id": "22a93a28",
   "metadata": {},
   "outputs": [
    {
     "data": {
      "text/plain": [
       "0    109769\n",
       "1      1678\n",
       "Name: crisis, dtype: int64"
      ]
     },
     "execution_count": 10,
     "metadata": {},
     "output_type": "execute_result"
    },
    {
     "data": {
      "image/png": "[encoded data removed]",
      "text/plain": [
       "<Figure size 504x360 with 1 Axes>"
      ]
     },
     "metadata": {
      "needs_background": "light"
     },
     "output_type": "display_data"
    }
   ],
   "source": [
    "#確認危機/非危機比例\n",
    "plt.figure(figsize=(7, 5))\n",
    "pd.value_counts(dataset['crisis']).plot.bar()\n",
    "plt.title('Crisis class histogram')\n",
    "plt.xlabel('crisis')\n",
    "plt.ylabel('Frequency')\n",
    "dataset['crisis'].value_counts()"
   ]
  },
  {
   "cell_type": "code",
   "execution_count": 11,
   "id": "9d574981",
   "metadata": {},
   "outputs": [],
   "source": [
    "# 把公司欄位/ 時間拉出\n",
    "company = dataset.pop('company')\n",
    "time_q = dataset.pop('time_q')"
   ]
  },
  {
   "cell_type": "code",
   "execution_count": 12,
   "id": "6c395528",
   "metadata": {},
   "outputs": [
    {
     "data": {
      "text/plain": [
       "((111447, 53), (111447,))"
      ]
     },
     "execution_count": 12,
     "metadata": {},
     "output_type": "execute_result"
    }
   ],
   "source": [
    "# 讀資料,分 X 和 y\n",
    "dataset = dataset.drop([\"Unnamed: 0\"],axis=1)\n",
    "\n",
    "X = dataset.drop(\"crisis\",axis=1)\n",
    "y = dataset[\"crisis\"]\n",
    "\n",
    "X.shape,y.shape"
   ]
  },
  {
   "cell_type": "code",
   "execution_count": 93,
   "id": "d096baf9",
   "metadata": {},
   "outputs": [
    {
     "name": "stdout",
     "output_type": "stream",
     "text": [
      "<class 'pandas.core.frame.DataFrame'>\n",
      "RangeIndex: 111447 entries, 0 to 111446\n",
      "Data columns (total 53 columns):\n",
      " #   Column                                  Non-Null Count   Dtype  \n",
      "---  ------                                  --------------   -----  \n",
      " 0   Current_Ratio                           111447 non-null  float64\n",
      " 1   oper_cashflow_liab                      111447 non-null  float64\n",
      " 2   current_liab_current_assets             111447 non-null  float64\n",
      " 3   working_capital_assets                  111447 non-null  float64\n",
      " 4   Net_Sales_Assets                        111447 non-null  float64\n",
      " 5   Receivables_Turnover_Ratio              111447 non-null  float64\n",
      " 6   Inventory_Turnover                      111447 non-null  float64\n",
      " 7   Fixed_Assets_Turnover                   111447 non-null  float64\n",
      " 8   net_worth_turnover_ratio                111447 non-null  float64\n",
      " 9   INV_AR_Equity                           111447 non-null  float64\n",
      " 10  l16                                     111447 non-null  int64  \n",
      " 11  l17                                     111447 non-null  int64  \n",
      " 12  l18                                     111447 non-null  int64  \n",
      " 13  Rate_of_RD_expenses                     111447 non-null  float64\n",
      " 14  Revenue_Growth_Rate                     111447 non-null  float64\n",
      " 15  Operating_gross_profit_growth_rate      111447 non-null  float64\n",
      " 16  Net_profit_growth_rate_before_tax       111447 non-null  float64\n",
      " 17  l10                                     111447 non-null  float64\n",
      " 18  l11                                     111447 non-null  float64\n",
      " 19  Gross_margin                            111447 non-null  float64\n",
      " 20  realized_gross_profit_on_sales          111447 non-null  float64\n",
      " 21  Operating_margin                        111447 non-null  float64\n",
      " 22  earning_before_tax_margin               111447 non-null  float64\n",
      " 23  Operating_Expense_Ratio                 111447 non-null  float64\n",
      " 24  Total_Non_Op_Income_Exp                 111447 non-null  float64\n",
      " 25  Net_Asset_Value_per_Share_F             111447 non-null  float64\n",
      " 26  l2                                      111447 non-null  float64\n",
      " 27  l3                                      111447 non-null  float64\n",
      " 28  l4                                      111447 non-null  float64\n",
      " 29  Return_on_Operating_Assets              111447 non-null  float64\n",
      " 30  net_income_change_rate                  111447 non-null  float64\n",
      " 31  Retained_earnings_assets                111447 non-null  float64\n",
      " 32  Income_Before_Tax_and_Interests_assets  111447 non-null  float64\n",
      " 33  debt_ratio                              111447 non-null  float64\n",
      " 34  Interest_Coverage_Ratio                 111447 non-null  float64\n",
      " 35  Cash_flow_ratio                         111447 non-null  float64\n",
      " 36  ration_of_interest_expense              111447 non-null  float64\n",
      " 37  l1                                      111447 non-null  float64\n",
      " 38  Debt_Equity_Ratio                       111447 non-null  float64\n",
      " 39  Equity_Asset_Ratio                      111447 non-null  float64\n",
      " 40  Ratio_of_liab_to_assets                 111447 non-null  float64\n",
      " 41  Debt_Eqity_rate                         111447 non-null  float64\n",
      " 42  i69                                     111447 non-null  float64\n",
      " 43  i71                                     111447 non-null  float64\n",
      " 44  fin_depen_related_parties               111447 non-null  float64\n",
      " 45  ratio_invest_equity                     111447 non-null  float64\n",
      " 46  ratio_invest_assets                     111447 non-null  float64\n",
      " 47  ratio_endorsement_equity                111447 non-null  float64\n",
      " 48  adj_laib_equity                         111447 non-null  float64\n",
      " 49  ratio_director_shareholder_holding      111447 non-null  float64\n",
      " 50  ratio_majority shareholder              111447 non-null  float64\n",
      " 51  ratio_director_shareholder_Pledge       111447 non-null  float64\n",
      " 52  negative_two_years                      111447 non-null  int64  \n",
      "dtypes: float64(49), int64(4)\n",
      "memory usage: 45.1 MB\n"
     ]
    }
   ],
   "source": [
    "X.info()"
   ]
  },
  {
   "cell_type": "code",
   "execution_count": 12,
   "id": "db905b5e",
   "metadata": {
    "scrolled": true
   },
   "outputs": [
    {
     "data": {
      "text/html": [
       "<div>\n",
       "<style scoped>\n",
       "    .dataframe tbody tr th:only-of-type {\n",
       "        vertical-align: middle;\n",
       "    }\n",
       "\n",
       "    .dataframe tbody tr th {\n",
       "        vertical-align: top;\n",
       "    }\n",
       "\n",
       "    .dataframe thead th {\n",
       "        text-align: right;\n",
       "    }\n",
       "</style>\n",
       "<table border=\"1\" class=\"dataframe\">\n",
       "  <thead>\n",
       "    <tr style=\"text-align: right;\">\n",
       "      <th></th>\n",
       "      <th>Current_Ratio</th>\n",
       "      <th>oper_cashflow_liab</th>\n",
       "      <th>current_liab_current_assets</th>\n",
       "      <th>working_capital_assets</th>\n",
       "      <th>Net_Sales_Assets</th>\n",
       "      <th>Receivables_Turnover_Ratio</th>\n",
       "      <th>Inventory_Turnover</th>\n",
       "      <th>Fixed_Assets_Turnover</th>\n",
       "      <th>net_worth_turnover_ratio</th>\n",
       "      <th>INV_AR_Equity</th>\n",
       "      <th>...</th>\n",
       "      <th>fin_depen_related_parties</th>\n",
       "      <th>ratio_invest_equity</th>\n",
       "      <th>ratio_invest_assets</th>\n",
       "      <th>ratio_endorsement_equity</th>\n",
       "      <th>adj_laib_equity</th>\n",
       "      <th>ratio_director_shareholder_holding</th>\n",
       "      <th>ratio_majority shareholder</th>\n",
       "      <th>ratio_director_shareholder_Pledge</th>\n",
       "      <th>negative_two_years</th>\n",
       "      <th>crisis</th>\n",
       "    </tr>\n",
       "  </thead>\n",
       "  <tbody>\n",
       "    <tr>\n",
       "      <th>0</th>\n",
       "      <td>82.01</td>\n",
       "      <td>0.05</td>\n",
       "      <td>1.22</td>\n",
       "      <td>-0.02</td>\n",
       "      <td>0.20</td>\n",
       "      <td>5.87</td>\n",
       "      <td>11.06</td>\n",
       "      <td>0.32</td>\n",
       "      <td>0.61</td>\n",
       "      <td>16.60</td>\n",
       "      <td>...</td>\n",
       "      <td>0.04</td>\n",
       "      <td>0.58</td>\n",
       "      <td>0.20</td>\n",
       "      <td>0.32</td>\n",
       "      <td>102.82</td>\n",
       "      <td>58387.01</td>\n",
       "      <td>0.0</td>\n",
       "      <td>0.52</td>\n",
       "      <td>0</td>\n",
       "      <td>0</td>\n",
       "    </tr>\n",
       "    <tr>\n",
       "      <th>1</th>\n",
       "      <td>69.77</td>\n",
       "      <td>0.01</td>\n",
       "      <td>1.43</td>\n",
       "      <td>-0.06</td>\n",
       "      <td>0.25</td>\n",
       "      <td>6.34</td>\n",
       "      <td>11.76</td>\n",
       "      <td>0.39</td>\n",
       "      <td>0.71</td>\n",
       "      <td>16.44</td>\n",
       "      <td>...</td>\n",
       "      <td>0.00</td>\n",
       "      <td>0.52</td>\n",
       "      <td>0.19</td>\n",
       "      <td>0.27</td>\n",
       "      <td>103.41</td>\n",
       "      <td>70659.26</td>\n",
       "      <td>0.0</td>\n",
       "      <td>0.57</td>\n",
       "      <td>0</td>\n",
       "      <td>0</td>\n",
       "    </tr>\n",
       "    <tr>\n",
       "      <th>2</th>\n",
       "      <td>95.36</td>\n",
       "      <td>0.13</td>\n",
       "      <td>1.05</td>\n",
       "      <td>-0.01</td>\n",
       "      <td>0.31</td>\n",
       "      <td>7.04</td>\n",
       "      <td>16.28</td>\n",
       "      <td>0.48</td>\n",
       "      <td>0.82</td>\n",
       "      <td>14.86</td>\n",
       "      <td>...</td>\n",
       "      <td>0.00</td>\n",
       "      <td>0.44</td>\n",
       "      <td>0.17</td>\n",
       "      <td>0.30</td>\n",
       "      <td>74.31</td>\n",
       "      <td>79575.54</td>\n",
       "      <td>0.0</td>\n",
       "      <td>0.46</td>\n",
       "      <td>0</td>\n",
       "      <td>0</td>\n",
       "    </tr>\n",
       "    <tr>\n",
       "      <th>3</th>\n",
       "      <td>139.54</td>\n",
       "      <td>0.11</td>\n",
       "      <td>0.72</td>\n",
       "      <td>0.05</td>\n",
       "      <td>0.35</td>\n",
       "      <td>7.43</td>\n",
       "      <td>16.37</td>\n",
       "      <td>0.54</td>\n",
       "      <td>0.86</td>\n",
       "      <td>16.57</td>\n",
       "      <td>...</td>\n",
       "      <td>0.00</td>\n",
       "      <td>0.37</td>\n",
       "      <td>0.15</td>\n",
       "      <td>0.29</td>\n",
       "      <td>67.76</td>\n",
       "      <td>77062.33</td>\n",
       "      <td>0.0</td>\n",
       "      <td>0.46</td>\n",
       "      <td>0</td>\n",
       "      <td>0</td>\n",
       "    </tr>\n",
       "    <tr>\n",
       "      <th>4</th>\n",
       "      <td>143.47</td>\n",
       "      <td>0.10</td>\n",
       "      <td>0.70</td>\n",
       "      <td>0.06</td>\n",
       "      <td>0.19</td>\n",
       "      <td>8.13</td>\n",
       "      <td>12.18</td>\n",
       "      <td>0.61</td>\n",
       "      <td>0.97</td>\n",
       "      <td>19.64</td>\n",
       "      <td>...</td>\n",
       "      <td>0.00</td>\n",
       "      <td>0.05</td>\n",
       "      <td>0.02</td>\n",
       "      <td>0.28</td>\n",
       "      <td>60.07</td>\n",
       "      <td>78608.66</td>\n",
       "      <td>0.0</td>\n",
       "      <td>0.40</td>\n",
       "      <td>0</td>\n",
       "      <td>0</td>\n",
       "    </tr>\n",
       "    <tr>\n",
       "      <th>...</th>\n",
       "      <td>...</td>\n",
       "      <td>...</td>\n",
       "      <td>...</td>\n",
       "      <td>...</td>\n",
       "      <td>...</td>\n",
       "      <td>...</td>\n",
       "      <td>...</td>\n",
       "      <td>...</td>\n",
       "      <td>...</td>\n",
       "      <td>...</td>\n",
       "      <td>...</td>\n",
       "      <td>...</td>\n",
       "      <td>...</td>\n",
       "      <td>...</td>\n",
       "      <td>...</td>\n",
       "      <td>...</td>\n",
       "      <td>...</td>\n",
       "      <td>...</td>\n",
       "      <td>...</td>\n",
       "      <td>...</td>\n",
       "      <td>...</td>\n",
       "    </tr>\n",
       "    <tr>\n",
       "      <th>111442</th>\n",
       "      <td>-9999.00</td>\n",
       "      <td>0.05</td>\n",
       "      <td>-9999.00</td>\n",
       "      <td>-9999.00</td>\n",
       "      <td>0.31</td>\n",
       "      <td>5.25</td>\n",
       "      <td>-9999.00</td>\n",
       "      <td>3.39</td>\n",
       "      <td>1.48</td>\n",
       "      <td>-9999.00</td>\n",
       "      <td>...</td>\n",
       "      <td>0.00</td>\n",
       "      <td>0.10</td>\n",
       "      <td>0.02</td>\n",
       "      <td>-9999.00</td>\n",
       "      <td>-9999.00</td>\n",
       "      <td>-9999.00</td>\n",
       "      <td>-9999.0</td>\n",
       "      <td>-9999.00</td>\n",
       "      <td>0</td>\n",
       "      <td>0</td>\n",
       "    </tr>\n",
       "    <tr>\n",
       "      <th>111443</th>\n",
       "      <td>-9999.00</td>\n",
       "      <td>0.00</td>\n",
       "      <td>-9999.00</td>\n",
       "      <td>-9999.00</td>\n",
       "      <td>0.06</td>\n",
       "      <td>4.73</td>\n",
       "      <td>-9999.00</td>\n",
       "      <td>2.76</td>\n",
       "      <td>1.22</td>\n",
       "      <td>-9999.00</td>\n",
       "      <td>...</td>\n",
       "      <td>0.00</td>\n",
       "      <td>0.10</td>\n",
       "      <td>0.02</td>\n",
       "      <td>-9999.00</td>\n",
       "      <td>-9999.00</td>\n",
       "      <td>-9999.00</td>\n",
       "      <td>-9999.0</td>\n",
       "      <td>-9999.00</td>\n",
       "      <td>0</td>\n",
       "      <td>0</td>\n",
       "    </tr>\n",
       "    <tr>\n",
       "      <th>111444</th>\n",
       "      <td>-9999.00</td>\n",
       "      <td>0.01</td>\n",
       "      <td>-9999.00</td>\n",
       "      <td>-9999.00</td>\n",
       "      <td>0.13</td>\n",
       "      <td>4.78</td>\n",
       "      <td>-9999.00</td>\n",
       "      <td>2.93</td>\n",
       "      <td>1.29</td>\n",
       "      <td>-9999.00</td>\n",
       "      <td>...</td>\n",
       "      <td>0.00</td>\n",
       "      <td>0.10</td>\n",
       "      <td>0.02</td>\n",
       "      <td>-9999.00</td>\n",
       "      <td>-9999.00</td>\n",
       "      <td>-9999.00</td>\n",
       "      <td>-9999.0</td>\n",
       "      <td>-9999.00</td>\n",
       "      <td>0</td>\n",
       "      <td>0</td>\n",
       "    </tr>\n",
       "    <tr>\n",
       "      <th>111445</th>\n",
       "      <td>-9999.00</td>\n",
       "      <td>0.03</td>\n",
       "      <td>-9999.00</td>\n",
       "      <td>-9999.00</td>\n",
       "      <td>0.21</td>\n",
       "      <td>4.98</td>\n",
       "      <td>-9999.00</td>\n",
       "      <td>3.11</td>\n",
       "      <td>1.35</td>\n",
       "      <td>-9999.00</td>\n",
       "      <td>...</td>\n",
       "      <td>0.00</td>\n",
       "      <td>0.10</td>\n",
       "      <td>0.02</td>\n",
       "      <td>-9999.00</td>\n",
       "      <td>-9999.00</td>\n",
       "      <td>-9999.00</td>\n",
       "      <td>-9999.0</td>\n",
       "      <td>-9999.00</td>\n",
       "      <td>0</td>\n",
       "      <td>0</td>\n",
       "    </tr>\n",
       "    <tr>\n",
       "      <th>111446</th>\n",
       "      <td>-9999.00</td>\n",
       "      <td>0.05</td>\n",
       "      <td>-9999.00</td>\n",
       "      <td>-9999.00</td>\n",
       "      <td>0.28</td>\n",
       "      <td>5.14</td>\n",
       "      <td>-9999.00</td>\n",
       "      <td>3.30</td>\n",
       "      <td>1.40</td>\n",
       "      <td>-9999.00</td>\n",
       "      <td>...</td>\n",
       "      <td>0.00</td>\n",
       "      <td>0.10</td>\n",
       "      <td>0.02</td>\n",
       "      <td>-9999.00</td>\n",
       "      <td>-9999.00</td>\n",
       "      <td>-9999.00</td>\n",
       "      <td>-9999.0</td>\n",
       "      <td>-9999.00</td>\n",
       "      <td>0</td>\n",
       "      <td>0</td>\n",
       "    </tr>\n",
       "  </tbody>\n",
       "</table>\n",
       "<p>111447 rows × 54 columns</p>\n",
       "</div>"
      ],
      "text/plain": [
       "        Current_Ratio  oper_cashflow_liab  current_liab_current_assets  \\\n",
       "0               82.01                0.05                         1.22   \n",
       "1               69.77                0.01                         1.43   \n",
       "2               95.36                0.13                         1.05   \n",
       "3              139.54                0.11                         0.72   \n",
       "4              143.47                0.10                         0.70   \n",
       "...               ...                 ...                          ...   \n",
       "111442       -9999.00                0.05                     -9999.00   \n",
       "111443       -9999.00                0.00                     -9999.00   \n",
       "111444       -9999.00                0.01                     -9999.00   \n",
       "111445       -9999.00                0.03                     -9999.00   \n",
       "111446       -9999.00                0.05                     -9999.00   \n",
       "\n",
       "        working_capital_assets  Net_Sales_Assets  Receivables_Turnover_Ratio  \\\n",
       "0                        -0.02              0.20                        5.87   \n",
       "1                        -0.06              0.25                        6.34   \n",
       "2                        -0.01              0.31                        7.04   \n",
       "3                         0.05              0.35                        7.43   \n",
       "4                         0.06              0.19                        8.13   \n",
       "...                        ...               ...                         ...   \n",
       "111442                -9999.00              0.31                        5.25   \n",
       "111443                -9999.00              0.06                        4.73   \n",
       "111444                -9999.00              0.13                        4.78   \n",
       "111445                -9999.00              0.21                        4.98   \n",
       "111446                -9999.00              0.28                        5.14   \n",
       "\n",
       "        Inventory_Turnover  Fixed_Assets_Turnover  net_worth_turnover_ratio  \\\n",
       "0                    11.06                   0.32                      0.61   \n",
       "1                    11.76                   0.39                      0.71   \n",
       "2                    16.28                   0.48                      0.82   \n",
       "3                    16.37                   0.54                      0.86   \n",
       "4                    12.18                   0.61                      0.97   \n",
       "...                    ...                    ...                       ...   \n",
       "111442            -9999.00                   3.39                      1.48   \n",
       "111443            -9999.00                   2.76                      1.22   \n",
       "111444            -9999.00                   2.93                      1.29   \n",
       "111445            -9999.00                   3.11                      1.35   \n",
       "111446            -9999.00                   3.30                      1.40   \n",
       "\n",
       "        INV_AR_Equity  ...  fin_depen_related_parties  ratio_invest_equity  \\\n",
       "0               16.60  ...                       0.04                 0.58   \n",
       "1               16.44  ...                       0.00                 0.52   \n",
       "2               14.86  ...                       0.00                 0.44   \n",
       "3               16.57  ...                       0.00                 0.37   \n",
       "4               19.64  ...                       0.00                 0.05   \n",
       "...               ...  ...                        ...                  ...   \n",
       "111442       -9999.00  ...                       0.00                 0.10   \n",
       "111443       -9999.00  ...                       0.00                 0.10   \n",
       "111444       -9999.00  ...                       0.00                 0.10   \n",
       "111445       -9999.00  ...                       0.00                 0.10   \n",
       "111446       -9999.00  ...                       0.00                 0.10   \n",
       "\n",
       "        ratio_invest_assets  ratio_endorsement_equity  adj_laib_equity  \\\n",
       "0                      0.20                      0.32           102.82   \n",
       "1                      0.19                      0.27           103.41   \n",
       "2                      0.17                      0.30            74.31   \n",
       "3                      0.15                      0.29            67.76   \n",
       "4                      0.02                      0.28            60.07   \n",
       "...                     ...                       ...              ...   \n",
       "111442                 0.02                  -9999.00         -9999.00   \n",
       "111443                 0.02                  -9999.00         -9999.00   \n",
       "111444                 0.02                  -9999.00         -9999.00   \n",
       "111445                 0.02                  -9999.00         -9999.00   \n",
       "111446                 0.02                  -9999.00         -9999.00   \n",
       "\n",
       "        ratio_director_shareholder_holding  ratio_majority shareholder  \\\n",
       "0                                 58387.01                         0.0   \n",
       "1                                 70659.26                         0.0   \n",
       "2                                 79575.54                         0.0   \n",
       "3                                 77062.33                         0.0   \n",
       "4                                 78608.66                         0.0   \n",
       "...                                    ...                         ...   \n",
       "111442                            -9999.00                     -9999.0   \n",
       "111443                            -9999.00                     -9999.0   \n",
       "111444                            -9999.00                     -9999.0   \n",
       "111445                            -9999.00                     -9999.0   \n",
       "111446                            -9999.00                     -9999.0   \n",
       "\n",
       "        ratio_director_shareholder_Pledge  negative_two_years  crisis  \n",
       "0                                    0.52                   0       0  \n",
       "1                                    0.57                   0       0  \n",
       "2                                    0.46                   0       0  \n",
       "3                                    0.46                   0       0  \n",
       "4                                    0.40                   0       0  \n",
       "...                                   ...                 ...     ...  \n",
       "111442                           -9999.00                   0       0  \n",
       "111443                           -9999.00                   0       0  \n",
       "111444                           -9999.00                   0       0  \n",
       "111445                           -9999.00                   0       0  \n",
       "111446                           -9999.00                   0       0  \n",
       "\n",
       "[111447 rows x 54 columns]"
      ]
     },
     "execution_count": 12,
     "metadata": {},
     "output_type": "execute_result"
    }
   ],
   "source": [
    "dataset"
   ]
  },
  {
   "cell_type": "code",
   "execution_count": 94,
   "id": "5b46157d",
   "metadata": {},
   "outputs": [
    {
     "data": {
      "text/plain": [
       "(0          1101\n",
       " 1          1101\n",
       " 2          1101\n",
       " 3          1101\n",
       " 4          1101\n",
       "           ...  \n",
       " 111442    Y9999\n",
       " 111443    Y9999\n",
       " 111444    Y9999\n",
       " 111445    Y9999\n",
       " 111446    Y9999\n",
       " Name: company, Length: 111447, dtype: object,\n",
       " 0         2001Q4\n",
       " 1         2002Q4\n",
       " 2         2003Q4\n",
       " 3         2004Q4\n",
       " 4         2005Q2\n",
       "            ...  \n",
       " 111442    2019Q4\n",
       " 111443    2020Q1\n",
       " 111444    2020Q2\n",
       " 111445    2020Q3\n",
       " 111446    2020Q4\n",
       " Name: time_q, Length: 111447, dtype: object)"
      ]
     },
     "execution_count": 94,
     "metadata": {},
     "output_type": "execute_result"
    }
   ],
   "source": [
    "company,time_q"
   ]
  },
  {
   "cell_type": "code",
   "execution_count": 95,
   "id": "d144c569",
   "metadata": {},
   "outputs": [
    {
     "name": "stdout",
     "output_type": "stream",
     "text": [
      "*******************Labels samples count:********************\n",
      "crisis\n",
      "0    109769\n",
      "1      1678\n",
      "Name: oper_cashflow_liab, dtype: int64\n"
     ]
    }
   ],
   "source": [
    "# 類樣本均衡審查\n",
    "def label_samples_summary(dataset):\n",
    "    '''\n",
    "    查看每個類的樣本量分布\n",
    "    :param df: 數據框\n",
    "    :return: 無\n",
    "    '''\n",
    "    print ('{:*^60}'.format('Labels samples count:'))\n",
    "    print (dataset.iloc[:, 1].groupby(dataset.iloc[:, -1]).count()) # df.iloc[:,-1].value_counts()\n",
    "    \n",
    "label_samples_summary(dataset)"
   ]
  },
  {
   "cell_type": "code",
   "execution_count": 96,
   "id": "2855bfd3",
   "metadata": {},
   "outputs": [
    {
     "name": "stdout",
     "output_type": "stream",
     "text": [
      "Number transactions X_train dataset:  (89157, 53)\n",
      "Number transactions y_train dataset:  (89157,)\n",
      "Number transactions X_test dataset:  (22290, 53)\n",
      "Number transactions y_test dataset:  (22290,)\n"
     ]
    }
   ],
   "source": [
    "# 切分資料\n",
    "X_train,X_test,y_train,y_test=train_test_split(X,y,test_size=0.2,random_state=1)\n",
    "\n",
    "\n",
    "print(\"Number transactions X_train dataset: \", X_train.shape)\n",
    "print(\"Number transactions y_train dataset: \", y_train.shape)\n",
    "print(\"Number transactions X_test dataset: \", X_test.shape)\n",
    "print(\"Number transactions y_test dataset: \", y_test.shape)"
   ]
  },
  {
   "cell_type": "code",
   "execution_count": 97,
   "id": "d680beab",
   "metadata": {
    "scrolled": true
   },
   "outputs": [
    {
     "name": "stdout",
     "output_type": "stream",
     "text": [
      "Before OverSampling, counts of label '1': 1324\n",
      "Before OverSampling, counts of label '0': 87833 \n",
      "\n",
      "After OverSampling, the shape of train_X: (175666, 53)\n",
      "After OverSampling, the shape of train_y: (175666,) \n",
      "\n",
      "After OverSampling, counts of label '1': 87833\n",
      "After OverSampling, counts of label '0': 87833\n"
     ]
    }
   ],
   "source": [
    "# 樣本均衡處理 (處理訓練樣品不平衡問題，丟到模型)\n",
    "\n",
    "print(\"Before OverSampling, counts of label '1': {}\".format(sum(y_train==1)))\n",
    "print(\"Before OverSampling, counts of label '0': {} \\n\".format(sum(y_train==0)))\n",
    "\n",
    "sm = SMOTE(random_state=2)\n",
    "X_train_res, y_train_res = sm.fit_resample(X_train, y_train.ravel())\n",
    "\n",
    "print('After OverSampling, the shape of train_X: {}'.format(X_train_res.shape))\n",
    "print('After OverSampling, the shape of train_y: {} \\n'.format(y_train_res.shape))\n",
    "\n",
    "print(\"After OverSampling, counts of label '1': {}\".format(sum(y_train_res==1)))\n",
    "print(\"After OverSampling, counts of label '0': {}\".format(sum(y_train_res==0)))"
   ]
  },
  {
   "cell_type": "markdown",
   "id": "7fa738ca",
   "metadata": {},
   "source": [
    "---\n",
    "\n",
    "# 建模從此開始 (NOstd)"
   ]
  },
  {
   "cell_type": "markdown",
   "id": "f09b4682",
   "metadata": {},
   "source": [
    "### Random Forest"
   ]
  },
  {
   "cell_type": "code",
   "execution_count": 17,
   "id": "6d7d224e",
   "metadata": {
    "tags": []
   },
   "outputs": [],
   "source": [
    "#網格搜尋 (給用區間，搜尋最佳參數)\n",
    "rf = RandomForestClassifier()\n",
    "# 模型參數dict\n",
    "param_rf = [{'n_estimators': range(10,200,10),\n",
    "               'max_features': range(3,11,2),\n",
    "               'max_depth':range(2,15,1),\n",
    "               'min_samples_split':range(50,201,20),\n",
    "               'class_weight':[\"balanced\"]\n",
    "              }]\n",
    " \n",
    "\n",
    "# grid_rf = GridSearchCV(rf,param_rf,scoring=\"roc_auc\", cv=5 , n_jobs=-1)\n",
    "grid_rf = RandomizedSearchCV(rf,param_rf,scoring='roc_auc', cv=5 , n_jobs=-1)\n"
   ]
  },
  {
   "cell_type": "code",
   "execution_count": 19,
   "id": "3b6c7da9",
   "metadata": {},
   "outputs": [
    {
     "data": {
      "text/plain": [
       "RandomizedSearchCV(cv=5, estimator=RandomForestClassifier(), n_jobs=-1,\n",
       "                   param_distributions=[{'class_weight': ['balanced'],\n",
       "                                         'max_depth': range(2, 15),\n",
       "                                         'max_features': range(3, 11, 2),\n",
       "                                         'min_samples_split': range(50, 201, 20),\n",
       "                                         'n_estimators': range(10, 200, 10)}],\n",
       "                   scoring='roc_auc')"
      ]
     },
     "execution_count": 19,
     "metadata": {},
     "output_type": "execute_result"
    }
   ],
   "source": [
    "#用 balanced 過的訓練資料去訓練模型\n",
    "grid_rf.fit(X_train_res,y_train_res.ravel())"
   ]
  },
  {
   "cell_type": "code",
   "execution_count": 20,
   "id": "0dc48497",
   "metadata": {
    "scrolled": true
   },
   "outputs": [
    {
     "name": "stdout",
     "output_type": "stream",
     "text": [
      "{'n_estimators': 70, 'min_samples_split': 110, 'max_features': 7, 'max_depth': 13, 'class_weight': 'balanced'}\n"
     ]
    }
   ],
   "source": [
    "#save best model\n",
    "best_rf = grid_rf.best_estimator_\n",
    "\n",
    "#check best n_estimators value\n",
    "print(grid_rf.best_params_)"
   ]
  },
  {
   "cell_type": "code",
   "execution_count": 311,
   "id": "bc8e70ea",
   "metadata": {
    "scrolled": true
   },
   "outputs": [
    {
     "data": {
      "text/plain": [
       "RandomForestClassifier(class_weight='balanced', max_depth=13, max_features=7,\n",
       "                       min_samples_split=110, n_estimators=70)"
      ]
     },
     "execution_count": 311,
     "metadata": {},
     "output_type": "execute_result"
    }
   ],
   "source": [
    "best_rf"
   ]
  },
  {
   "cell_type": "code",
   "execution_count": 310,
   "id": "2c8d4033",
   "metadata": {},
   "outputs": [
    {
     "name": "stdout",
     "output_type": "stream",
     "text": [
      "RandomForest_score_train : 0.9522250308623832\n",
      "RandomForest_score_test : 0.9289716164282076\n"
     ]
    }
   ],
   "source": [
    "# #原始資料評分\n",
    "# print('RandomForest_score_train : {}'.format(best_rf.score(X_train_res,y_train_res)))\n",
    "# print('RandomForest_score_test : {}'.format(best_rf.score(X_test, y_test)))"
   ]
  },
  {
   "cell_type": "markdown",
   "id": "29fa18d6",
   "metadata": {},
   "source": [
    "---\n",
    "## 網格搜尋後比較test/train,再手動調參"
   ]
  },
  {
   "cell_type": "markdown",
   "id": "b2989b80",
   "metadata": {},
   "source": [
    "### 網格搜尋MODEL"
   ]
  },
  {
   "cell_type": "code",
   "execution_count": 27,
   "id": "68828b0d",
   "metadata": {},
   "outputs": [
    {
     "ename": "NameError",
     "evalue": "name 'best_rf' is not defined",
     "output_type": "error",
     "traceback": [
      "\u001b[0;31m---------------------------------------------------------------------------\u001b[0m",
      "\u001b[0;31mNameError\u001b[0m                                 Traceback (most recent call last)",
      "\u001b[0;32m<ipython-input-27-8b5d4d12c307>\u001b[0m in \u001b[0;36m<module>\u001b[0;34m\u001b[0m\n\u001b[1;32m      1\u001b[0m \u001b[0;31m#用網格搜尋出來的模型fit\u001b[0m\u001b[0;34m\u001b[0m\u001b[0;34m\u001b[0m\u001b[0;34m\u001b[0m\u001b[0m\n\u001b[0;32m----> 2\u001b[0;31m \u001b[0mbest_rf\u001b[0m\u001b[0;34m.\u001b[0m\u001b[0mfit\u001b[0m\u001b[0;34m(\u001b[0m\u001b[0mX_train_res\u001b[0m\u001b[0;34m,\u001b[0m\u001b[0my_train_res\u001b[0m\u001b[0;34m.\u001b[0m\u001b[0mravel\u001b[0m\u001b[0;34m(\u001b[0m\u001b[0;34m)\u001b[0m\u001b[0;34m)\u001b[0m\u001b[0;34m\u001b[0m\u001b[0;34m\u001b[0m\u001b[0m\n\u001b[0m",
      "\u001b[0;31mNameError\u001b[0m: name 'best_rf' is not defined"
     ]
    }
   ],
   "source": [
    "#用網格搜尋出來的模型fit\n",
    "best_rf.fit(X_train_res,y_train_res.ravel())"
   ]
  },
  {
   "cell_type": "code",
   "execution_count": 421,
   "id": "78d85fdf",
   "metadata": {},
   "outputs": [
    {
     "name": "stdout",
     "output_type": "stream",
     "text": [
      "roc_auc_score_test_BestModel: 0.7520384623858571\n"
     ]
    }
   ],
   "source": [
    "#最佳參數 的 test \n",
    "y_pred_bs = best_rf.predict(X_test)\n",
    "\n",
    "#y_pred  test ROC_AUC score\n",
    "from sklearn.metrics import accuracy_score, confusion_matrix ,roc_auc_score\n",
    "\n",
    "roc_auc_score = roc_auc_score(y_test, y_pred_bs)\n",
    "print('roc_auc_score_test_BestModel: {}'.format(roc_auc_score))"
   ]
  },
  {
   "cell_type": "code",
   "execution_count": 422,
   "id": "415896d6",
   "metadata": {},
   "outputs": [
    {
     "name": "stdout",
     "output_type": "stream",
     "text": [
      "roc_auc_score_train_BestModel: 0.8739192119637127\n"
     ]
    }
   ],
   "source": [
    "## #最佳參數 的 train ROC_AUC score\n",
    "\n",
    "from sklearn.metrics import accuracy_score, confusion_matrix ,roc_auc_score\n",
    "y_pred_bs_tr = best_rf.predict(X_train)\n",
    "roc_auc_score_tr = roc_auc_score(y_train, y_pred_bs_tr)\n",
    "print('roc_auc_score_train_BestModel: {}'.format(roc_auc_score_tr))"
   ]
  },
  {
   "cell_type": "markdown",
   "id": "6d368a03",
   "metadata": {},
   "source": [
    "### 手動調參MODEL"
   ]
  },
  {
   "cell_type": "code",
   "execution_count": 99,
   "id": "6ca975f9",
   "metadata": {},
   "outputs": [
    {
     "data": {
      "text/plain": [
       "RandomForestClassifier(max_depth=6, max_features=10, min_samples_split=110,\n",
       "                       n_estimators=150, n_jobs=-1)"
      ]
     },
     "execution_count": 99,
     "metadata": {},
     "output_type": "execute_result"
    }
   ],
   "source": [
    "# 手動調參\n",
    "rf_test1=RandomForestClassifier( max_depth=6, max_features=10,\n",
    "                       min_samples_split=110, n_estimators=150, n_jobs=-1)\n",
    "\n",
    "rf_test1.fit(X_train_res,y_train_res.ravel())"
   ]
  },
  {
   "cell_type": "code",
   "execution_count": 100,
   "id": "a9085fb2",
   "metadata": {},
   "outputs": [
    {
     "name": "stdout",
     "output_type": "stream",
     "text": [
      "roc_auc_score_test: 0.7323944695817726\n"
     ]
    }
   ],
   "source": [
    "#手動調參 的 test \n",
    "y_pred = rf_test1.predict(X_test)\n",
    "\n",
    "#y_pred  test ROC_AUC score\n",
    "from sklearn.metrics import accuracy_score, confusion_matrix ,roc_auc_score\n",
    "\n",
    "roc_auc_score = roc_auc_score(y_test, y_pred)\n",
    "print('roc_auc_score_test: {}'.format(roc_auc_score))"
   ]
  },
  {
   "cell_type": "code",
   "execution_count": 101,
   "id": "388dcb00",
   "metadata": {},
   "outputs": [
    {
     "name": "stdout",
     "output_type": "stream",
     "text": [
      "roc_auc_score_train: 0.7620228074267416\n"
     ]
    }
   ],
   "source": [
    "##手動調參 的 train ROC_AUC score\n",
    "from sklearn.metrics import classification_report\n",
    "from sklearn.metrics import accuracy_score, confusion_matrix ,roc_auc_score\n",
    "y_pred_tr = rf_test1.predict(X_train)\n",
    "roc_auc_score_tr = roc_auc_score(y_train, y_pred_tr)\n",
    "print('roc_auc_score_train: {}'.format(roc_auc_score_tr))"
   ]
  },
  {
   "cell_type": "code",
   "execution_count": 102,
   "id": "00946260",
   "metadata": {},
   "outputs": [
    {
     "name": "stdout",
     "output_type": "stream",
     "text": [
      "roc_auc_score_ALL: 0.7557798182988915\n"
     ]
    }
   ],
   "source": [
    "## crisis predict\n",
    "\n",
    "from sklearn.metrics import classification_report\n",
    "from sklearn.metrics import accuracy_score, confusion_matrix ,roc_auc_score\n",
    "y_pd = rf_test1.predict(X)\n",
    "roc_auc_score_all = roc_auc_score(y, y_pd)\n",
    "print('roc_auc_score_ALL: {}'.format(roc_auc_score_all))"
   ]
  },
  {
   "cell_type": "code",
   "execution_count": 103,
   "id": "4c0c7af6",
   "metadata": {},
   "outputs": [],
   "source": [
    "y_pd = pd.DataFrame(y_pd)"
   ]
  },
  {
   "cell_type": "code",
   "execution_count": 104,
   "id": "77305b9c",
   "metadata": {},
   "outputs": [
    {
     "data": {
      "text/plain": [
       "0    93878\n",
       "1    17569\n",
       "dtype: int64"
      ]
     },
     "execution_count": 104,
     "metadata": {},
     "output_type": "execute_result"
    }
   ],
   "source": [
    "pd.DataFrame(y_pd).value_counts()"
   ]
  },
  {
   "cell_type": "code",
   "execution_count": 105,
   "id": "47afc91c",
   "metadata": {},
   "outputs": [],
   "source": [
    "# 公司 日期 加危機與否 (0/1)\n",
    "crisis_predict = pd.concat([company,time_q,y_pd],axis =1)\n",
    "pd.DataFrame(crisis_predict)\n",
    "crisis_predict.to_csv('crisis_company_predict.csv')"
   ]
  },
  {
   "cell_type": "code",
   "execution_count": 106,
   "id": "d01a4913",
   "metadata": {},
   "outputs": [],
   "source": [
    "# 公司 日期 加危機 = 1\n",
    "\n",
    "badcompany_rf=crisis_predict[crisis_predict[0]==1]\n",
    "badcompany_rf.to_csv('badcompany_rf.csv')"
   ]
  },
  {
   "cell_type": "code",
   "execution_count": 107,
   "id": "080689cf",
   "metadata": {},
   "outputs": [
    {
     "data": {
      "text/plain": [
       "0    109769\n",
       "1      1678\n",
       "Name: crisis, dtype: int64"
      ]
     },
     "execution_count": 107,
     "metadata": {},
     "output_type": "execute_result"
    }
   ],
   "source": [
    "dataset[\"crisis\"].value_counts()"
   ]
  },
  {
   "cell_type": "code",
   "execution_count": 108,
   "id": "2768d6f5",
   "metadata": {},
   "outputs": [
    {
     "data": {
      "text/plain": [
       "0    93878\n",
       "1    17569\n",
       "Name: 0, dtype: int64"
      ]
     },
     "execution_count": 108,
     "metadata": {},
     "output_type": "execute_result"
    }
   ],
   "source": [
    "crisis_predict[0].value_counts()"
   ]
  },
  {
   "cell_type": "code",
   "execution_count": 109,
   "id": "4a09ac0e",
   "metadata": {},
   "outputs": [
    {
     "name": "stdout",
     "output_type": "stream",
     "text": [
      "              precision    recall  f1-score   support\n",
      "\n",
      "           0       0.99      0.85      0.92    109769\n",
      "           1       0.06      0.66      0.12      1678\n",
      "\n",
      "    accuracy                           0.85    111447\n",
      "   macro avg       0.53      0.76      0.52    111447\n",
      "weighted avg       0.98      0.85      0.90    111447\n",
      "\n"
     ]
    }
   ],
   "source": [
    "print(classification_report(dataset[\"crisis\"],crisis_predict[0]))"
   ]
  },
  {
   "cell_type": "code",
   "execution_count": 110,
   "id": "eb52af1d",
   "metadata": {},
   "outputs": [
    {
     "data": {
      "text/html": [
       "<div>\n",
       "<style scoped>\n",
       "    .dataframe tbody tr th:only-of-type {\n",
       "        vertical-align: middle;\n",
       "    }\n",
       "\n",
       "    .dataframe tbody tr th {\n",
       "        vertical-align: top;\n",
       "    }\n",
       "\n",
       "    .dataframe thead th {\n",
       "        text-align: right;\n",
       "    }\n",
       "</style>\n",
       "<table border=\"1\" class=\"dataframe\">\n",
       "  <thead>\n",
       "    <tr style=\"text-align: right;\">\n",
       "      <th></th>\n",
       "      <th>company</th>\n",
       "      <th>time_q</th>\n",
       "      <th>0</th>\n",
       "    </tr>\n",
       "  </thead>\n",
       "  <tbody>\n",
       "    <tr>\n",
       "      <th>45</th>\n",
       "      <td>1101</td>\n",
       "      <td>2016Q4</td>\n",
       "      <td>1</td>\n",
       "    </tr>\n",
       "    <tr>\n",
       "      <th>89</th>\n",
       "      <td>1103</td>\n",
       "      <td>2012Q2</td>\n",
       "      <td>1</td>\n",
       "    </tr>\n",
       "    <tr>\n",
       "      <th>90</th>\n",
       "      <td>1103</td>\n",
       "      <td>2012Q3</td>\n",
       "      <td>1</td>\n",
       "    </tr>\n",
       "    <tr>\n",
       "      <th>91</th>\n",
       "      <td>1103</td>\n",
       "      <td>2012Q4</td>\n",
       "      <td>1</td>\n",
       "    </tr>\n",
       "    <tr>\n",
       "      <th>92</th>\n",
       "      <td>1103</td>\n",
       "      <td>2013Q1</td>\n",
       "      <td>1</td>\n",
       "    </tr>\n",
       "    <tr>\n",
       "      <th>...</th>\n",
       "      <td>...</td>\n",
       "      <td>...</td>\n",
       "      <td>...</td>\n",
       "    </tr>\n",
       "    <tr>\n",
       "      <th>110735</th>\n",
       "      <td>OTC27</td>\n",
       "      <td>2013Q2</td>\n",
       "      <td>1</td>\n",
       "    </tr>\n",
       "    <tr>\n",
       "      <th>110763</th>\n",
       "      <td>OTC27</td>\n",
       "      <td>2020Q2</td>\n",
       "      <td>1</td>\n",
       "    </tr>\n",
       "    <tr>\n",
       "      <th>110766</th>\n",
       "      <td>OTC29</td>\n",
       "      <td>2001Q4</td>\n",
       "      <td>1</td>\n",
       "    </tr>\n",
       "    <tr>\n",
       "      <th>110870</th>\n",
       "      <td>OTC34</td>\n",
       "      <td>2018Q2</td>\n",
       "      <td>1</td>\n",
       "    </tr>\n",
       "    <tr>\n",
       "      <th>111217</th>\n",
       "      <td>R073</td>\n",
       "      <td>2001Q4</td>\n",
       "      <td>1</td>\n",
       "    </tr>\n",
       "  </tbody>\n",
       "</table>\n",
       "<p>17569 rows × 3 columns</p>\n",
       "</div>"
      ],
      "text/plain": [
       "       company  time_q  0\n",
       "45        1101  2016Q4  1\n",
       "89        1103  2012Q2  1\n",
       "90        1103  2012Q3  1\n",
       "91        1103  2012Q4  1\n",
       "92        1103  2013Q1  1\n",
       "...        ...     ... ..\n",
       "110735   OTC27  2013Q2  1\n",
       "110763   OTC27  2020Q2  1\n",
       "110766   OTC29  2001Q4  1\n",
       "110870   OTC34  2018Q2  1\n",
       "111217    R073  2001Q4  1\n",
       "\n",
       "[17569 rows x 3 columns]"
      ]
     },
     "execution_count": 110,
     "metadata": {},
     "output_type": "execute_result"
    }
   ],
   "source": [
    "badcompany_rf"
   ]
  },
  {
   "cell_type": "code",
   "execution_count": 111,
   "id": "8e784eed",
   "metadata": {},
   "outputs": [
    {
     "name": "stdout",
     "output_type": "stream",
     "text": [
      "number of correct sample: 18841\n",
      "con_matrix:[[18623  3313]\n",
      " [  136   218]]\n"
     ]
    }
   ],
   "source": [
    "num_correct_samples = accuracy_score(y_test, y_pred , normalize=False)\n",
    "con_matrix = confusion_matrix(y_test, y_pred)\n",
    "\n",
    "\n",
    "print('number of correct sample: {}'.format(num_correct_samples))\n",
    "print('con_matrix:{}'.format(con_matrix))"
   ]
  },
  {
   "cell_type": "markdown",
   "id": "1b7ac42b",
   "metadata": {},
   "source": [
    "---"
   ]
  },
  {
   "cell_type": "markdown",
   "id": "f65662ac",
   "metadata": {},
   "source": [
    "## 選用手動調參過後的模型,再進行重要特徵分數的排行"
   ]
  },
  {
   "cell_type": "code",
   "execution_count": 347,
   "id": "f4acd7c6",
   "metadata": {
    "scrolled": true
   },
   "outputs": [
    {
     "data": {
      "text/plain": [
       "array([0.00258086, 0.00204756, 0.01951145, 0.00555747, 0.00122349,\n",
       "       0.00340533, 0.00434298, 0.00200515, 0.00169686, 0.00184479,\n",
       "       0.00115032, 0.024056  , 0.00248158, 0.00301354, 0.00238498,\n",
       "       0.00219759, 0.00365723, 0.00535949, 0.01139099, 0.00205421,\n",
       "       0.00291606, 0.0561404 , 0.08939852, 0.00243384, 0.01004022,\n",
       "       0.03770819, 0.00170012, 0.02545457, 0.03332692, 0.01674879,\n",
       "       0.03237076, 0.15294444, 0.0862594 , 0.01937882, 0.02141766,\n",
       "       0.00186099, 0.03551881, 0.00126819, 0.04011603, 0.01879479,\n",
       "       0.00250384, 0.0110734 , 0.03290336, 0.01383434, 0.01337963,\n",
       "       0.00652044, 0.00813684, 0.00373842, 0.00733932, 0.00343079,\n",
       "       0.00148738, 0.00312948, 0.10476335])"
      ]
     },
     "execution_count": 347,
     "metadata": {},
     "output_type": "execute_result"
    }
   ],
   "source": [
    "#重要特徵分數\n",
    "imp_rf=rf_test1.feature_importances_\n",
    "imp_rf"
   ]
  },
  {
   "cell_type": "code",
   "execution_count": 348,
   "id": "85dfdcaf",
   "metadata": {
    "scrolled": true
   },
   "outputs": [
    {
     "data": {
      "text/plain": [
       "Index(['Current_Ratio', 'oper_cashflow_liab', 'current_liab_current_assets',\n",
       "       'working_capital_assets', 'Net_Sales_Assets',\n",
       "       'Receivables_Turnover_Ratio', 'Inventory_Turnover',\n",
       "       'Fixed_Assets_Turnover', 'net_worth_turnover_ratio', 'INV_AR_Equity',\n",
       "       'l16', 'l17', 'l18', 'Rate_of_RD_expenses', 'Revenue_Growth_Rate',\n",
       "       'Operating_gross_profit_growth_rate',\n",
       "       'Net_profit_growth_rate_before_tax', 'l10', 'l11', 'Gross_margin',\n",
       "       'realized_gross_profit_on_sales', 'Operating_margin',\n",
       "       'earning_before_tax_margin', 'Operating_Expense_Ratio',\n",
       "       'Total_Non_Op_Income_Exp', 'Net_Asset_Value_per_Share_F', 'l2', 'l3',\n",
       "       'l4', 'Return_on_Operating_Assets', 'net_income_change_rate',\n",
       "       'Retained_earnings_assets', 'Income_Before_Tax_and_Interests_assets',\n",
       "       'debt_ratio', 'Interest_Coverage_Ratio', 'Cash_flow_ratio',\n",
       "       'ration_of_interest_expense', 'l1', 'Debt_Equity_Ratio',\n",
       "       'Equity_Asset_Ratio', 'Ratio_of_liab_to_assets', 'Debt_Eqity_rate',\n",
       "       'i69', 'i71', 'fin_depen_related_parties', 'ratio_invest_equity',\n",
       "       'ratio_invest_assets', 'ratio_endorsement_equity', 'adj_laib_equity',\n",
       "       'ratio_director_shareholder_holding', 'ratio_majority shareholder',\n",
       "       'ratio_director_shareholder_Pledge', 'negative_two_years'],\n",
       "      dtype='object')"
      ]
     },
     "execution_count": 348,
     "metadata": {},
     "output_type": "execute_result"
    }
   ],
   "source": [
    "names=X.columns\n",
    "names"
   ]
  },
  {
   "cell_type": "code",
   "execution_count": 349,
   "id": "243d6ef0",
   "metadata": {
    "scrolled": true
   },
   "outputs": [
    {
     "data": {
      "text/plain": [
       "(array([0.00258086, 0.00204756, 0.01951145, 0.00555747, 0.00122349,\n",
       "        0.00340533, 0.00434298, 0.00200515, 0.00169686, 0.00184479,\n",
       "        0.00115032, 0.024056  , 0.00248158, 0.00301354, 0.00238498,\n",
       "        0.00219759, 0.00365723, 0.00535949, 0.01139099, 0.00205421,\n",
       "        0.00291606, 0.0561404 , 0.08939852, 0.00243384, 0.01004022,\n",
       "        0.03770819, 0.00170012, 0.02545457, 0.03332692, 0.01674879,\n",
       "        0.03237076, 0.15294444, 0.0862594 , 0.01937882, 0.02141766,\n",
       "        0.00186099, 0.03551881, 0.00126819, 0.04011603, 0.01879479,\n",
       "        0.00250384, 0.0110734 , 0.03290336, 0.01383434, 0.01337963,\n",
       "        0.00652044, 0.00813684, 0.00373842, 0.00733932, 0.00343079,\n",
       "        0.00148738, 0.00312948, 0.10476335]),\n",
       " Index(['Current_Ratio', 'oper_cashflow_liab', 'current_liab_current_assets',\n",
       "        'working_capital_assets', 'Net_Sales_Assets',\n",
       "        'Receivables_Turnover_Ratio', 'Inventory_Turnover',\n",
       "        'Fixed_Assets_Turnover', 'net_worth_turnover_ratio', 'INV_AR_Equity',\n",
       "        'l16', 'l17', 'l18', 'Rate_of_RD_expenses', 'Revenue_Growth_Rate',\n",
       "        'Operating_gross_profit_growth_rate',\n",
       "        'Net_profit_growth_rate_before_tax', 'l10', 'l11', 'Gross_margin',\n",
       "        'realized_gross_profit_on_sales', 'Operating_margin',\n",
       "        'earning_before_tax_margin', 'Operating_Expense_Ratio',\n",
       "        'Total_Non_Op_Income_Exp', 'Net_Asset_Value_per_Share_F', 'l2', 'l3',\n",
       "        'l4', 'Return_on_Operating_Assets', 'net_income_change_rate',\n",
       "        'Retained_earnings_assets', 'Income_Before_Tax_and_Interests_assets',\n",
       "        'debt_ratio', 'Interest_Coverage_Ratio', 'Cash_flow_ratio',\n",
       "        'ration_of_interest_expense', 'l1', 'Debt_Equity_Ratio',\n",
       "        'Equity_Asset_Ratio', 'Ratio_of_liab_to_assets', 'Debt_Eqity_rate',\n",
       "        'i69', 'i71', 'fin_depen_related_parties', 'ratio_invest_equity',\n",
       "        'ratio_invest_assets', 'ratio_endorsement_equity', 'adj_laib_equity',\n",
       "        'ratio_director_shareholder_holding', 'ratio_majority shareholder',\n",
       "        'ratio_director_shareholder_Pledge', 'negative_two_years'],\n",
       "       dtype='object'))"
      ]
     },
     "execution_count": 349,
     "metadata": {},
     "output_type": "execute_result"
    }
   ],
   "source": [
    "imp_rf,names"
   ]
  },
  {
   "cell_type": "code",
   "execution_count": 350,
   "id": "80445524",
   "metadata": {},
   "outputs": [
    {
     "name": "stdout",
     "output_type": "stream",
     "text": [
      " 1) Retained_earnings_assets                 0.152944\n",
      " 2) negative_two_years                       0.104763\n",
      " 3) earning_before_tax_margin                0.089399\n",
      " 4) Income_Before_Tax_and_Interests_assets   0.086259\n",
      " 5) Operating_margin                         0.056140\n",
      " 6) Debt_Equity_Ratio                        0.040116\n",
      " 7) Net_Asset_Value_per_Share_F              0.037708\n",
      " 8) ration_of_interest_expense               0.035519\n",
      " 9) l4                                       0.033327\n",
      "10) i69                                      0.032903\n",
      "11) net_income_change_rate                   0.032371\n",
      "12) l3                                       0.025455\n",
      "13) l17                                      0.024056\n",
      "14) Interest_Coverage_Ratio                  0.021418\n",
      "15) current_liab_current_assets              0.019511\n",
      "16) debt_ratio                               0.019379\n",
      "17) Equity_Asset_Ratio                       0.018795\n",
      "18) Return_on_Operating_Assets               0.016749\n",
      "19) i71                                      0.013834\n",
      "20) fin_depen_related_parties                0.013380\n",
      "21) l11                                      0.011391\n",
      "22) Debt_Eqity_rate                          0.011073\n",
      "23) Total_Non_Op_Income_Exp                  0.010040\n",
      "24) ratio_invest_assets                      0.008137\n",
      "25) adj_laib_equity                          0.007339\n",
      "26) ratio_invest_equity                      0.006520\n",
      "27) working_capital_assets                   0.005557\n",
      "28) l10                                      0.005359\n",
      "29) Inventory_Turnover                       0.004343\n",
      "30) ratio_endorsement_equity                 0.003738\n",
      "31) Net_profit_growth_rate_before_tax        0.003657\n",
      "32) ratio_director_shareholder_holding       0.003431\n",
      "33) Receivables_Turnover_Ratio               0.003405\n",
      "34) ratio_director_shareholder_Pledge        0.003129\n",
      "35) Rate_of_RD_expenses                      0.003014\n",
      "36) realized_gross_profit_on_sales           0.002916\n",
      "37) Current_Ratio                            0.002581\n",
      "38) Ratio_of_liab_to_assets                  0.002504\n",
      "39) l18                                      0.002482\n",
      "40) Operating_Expense_Ratio                  0.002434\n",
      "41) Revenue_Growth_Rate                      0.002385\n",
      "42) Operating_gross_profit_growth_rate       0.002198\n",
      "43) Gross_margin                             0.002054\n",
      "44) oper_cashflow_liab                       0.002048\n",
      "45) Fixed_Assets_Turnover                    0.002005\n",
      "46) Cash_flow_ratio                          0.001861\n",
      "47) INV_AR_Equity                            0.001845\n",
      "48) l2                                       0.001700\n",
      "49) net_worth_turnover_ratio                 0.001697\n",
      "50) ratio_majority shareholder               0.001487\n",
      "51) l1                                       0.001268\n",
      "52) Net_Sales_Assets                         0.001223\n",
      "53) l16                                      0.001150\n"
     ]
    }
   ],
   "source": [
    "#把欄位名稱跟特徵分數結合(排序)\n",
    "zip(imp_rf,names)\n",
    "imp_rf,names=zip(*sorted(zip(imp_rf,names),reverse = True))\n",
    "imp_rf,names\n",
    "\n",
    "#特徵分數印出\n",
    "for i in range(X.shape[1]):\n",
    "    print(\"%2d) %-*s %f\" % (i+1,40,names[i],imp_rf[i]))"
   ]
  },
  {
   "cell_type": "code",
   "execution_count": 357,
   "id": "68a08e5e",
   "metadata": {},
   "outputs": [
    {
     "data": {
      "image/png": "[encoded data removed]",
      "text/plain": [
       "<Figure size 864x576 with 1 Axes>"
      ]
     },
     "metadata": {
      "needs_background": "light"
     },
     "output_type": "display_data"
    }
   ],
   "source": [
    "#把欄位名稱跟特徵分數結合(排序)\n",
    "zip(imp_rf,names)\n",
    "imp_rf,names=zip(*sorted(zip(imp_rf,names)))\n",
    "\n",
    "#畫圖\n",
    "plt.figure(figsize=(12,8))\n",
    "plt.barh(names,imp_rf)\n",
    "plt.xlabel('Importance of Feature')\n",
    "plt.ylabel('Features')\n",
    "plt.show()"
   ]
  },
  {
   "cell_type": "code",
   "execution_count": 416,
   "id": "cd617975",
   "metadata": {},
   "outputs": [
    {
     "name": "stdout",
     "output_type": "stream",
     "text": [
      "12\n"
     ]
    }
   ],
   "source": [
    "#  挑選 X 數量 \n",
    "from sklearn.feature_selection import SelectFromModel\n",
    "\n",
    "sfm = SelectFromModel(rf_test1,threshold=0.025,prefit=True)\n",
    "X_selected = sfm.transform(X_train)\n",
    "print(X_selected.shape[1])"
   ]
  },
  {
   "cell_type": "code",
   "execution_count": 383,
   "id": "64b54556",
   "metadata": {
    "scrolled": false
   },
   "outputs": [
    {
     "data": {
      "image/png": "[encoded data removed]",
      "text/plain": [
       "<Figure size 504x360 with 1 Axes>"
      ]
     },
     "metadata": {
      "needs_background": "light"
     },
     "output_type": "display_data"
    }
   ],
   "source": [
    "#畫出ROC指標, 驗證模型好壞\n",
    "from sklearn.metrics import roc_curve, auc\n",
    "\n",
    "# get 0/1 binary lable for each patient encounter\n",
    "label = y_test\n",
    "\n",
    "# get the last prediction in [0,1] for the patient\n",
    "prediction = y_pred\n",
    "\n",
    "# compute ROC curve for predictions\n",
    "rnn_roc = roc_curve(label,prediction)\n",
    "\n",
    "# compute the area under the curve of prediction ROC\n",
    "rnn_auc = auc(rnn_roc[0], rnn_roc[1])\n",
    "\n",
    "# plot rocs & display AUCs\n",
    "plt.figure(figsize=(7, 5))\n",
    "line_kwargs = {'linewidth': 4, 'alpha': 0.8}\n",
    "plt.plot(rnn_roc[0], rnn_roc[1], label=\"AUC = %0.3f\" % rnn_auc, color='#6AA84F', **line_kwargs)\n",
    "plt.legend(loc='lower right', fontsize=20)\n",
    "plt.xlim((-0.05, 1.05))\n",
    "plt.ylim((-0.05, 1.05))\n",
    "plt.xticks([0, 0.25, 0.5, 0.75, 1.0], fontsize=14)\n",
    "plt.yticks([0, 0.25, 0.5, 0.75, 1.0], fontsize=14)\n",
    "plt.plot([0, 1], [0, 1],'r--')\n",
    "plt.xlabel(\"False Positive Rate\", fontsize=18)\n",
    "plt.ylabel(\"True Positive Rate\", fontsize=18)\n",
    "plt.title(\"ROC Curves\", fontsize=24)\n",
    "plt.grid(alpha=0.25)\n",
    "plt.tight_layout()"
   ]
  },
  {
   "cell_type": "markdown",
   "id": "57a059e7",
   "metadata": {},
   "source": [
    "---\n",
    "## Learning Curve"
   ]
  },
  {
   "cell_type": "code",
   "execution_count": 375,
   "id": "aebc2256",
   "metadata": {
    "scrolled": true
   },
   "outputs": [
    {
     "name": "stdout",
     "output_type": "stream",
     "text": [
      "RandomForestClassifier(class_weight='balanced', max_depth=13, max_features=7,\n",
      "                       min_samples_split=110, n_estimators=70)\n",
      "RandomForestClassifier(max_depth=6, max_features=7, min_samples_split=110,\n",
      "                       n_estimators=150, n_jobs=-1)\n"
     ]
    }
   ],
   "source": [
    "print(best_rf)\n",
    "print(rf_test1)"
   ]
  },
  {
   "cell_type": "code",
   "execution_count": 88,
   "id": "9667af1d",
   "metadata": {},
   "outputs": [
    {
     "name": "stdout",
     "output_type": "stream",
     "text": [
      "After OverSampling, counts of label '1': 106306\n",
      "Affter OverSampling, counts of label '0': 106306 \n",
      "\n"
     ]
    }
   ],
   "source": [
    "sm = SMOTE(random_state=2)\n",
    "X_all, y_all = sm.fit_resample(X, y.ravel())\n",
    "\n",
    "print(\"After OverSampling, counts of label '1': {}\".format(sum(y_all==1)))\n",
    "print(\"Affter OverSampling, counts of label '0': {} \\n\".format(sum(y_all==0)))"
   ]
  },
  {
   "cell_type": "code",
   "execution_count": 359,
   "id": "87d2680a",
   "metadata": {
    "scrolled": true
   },
   "outputs": [
    {
     "data": {
      "image/png": "[encoded data removed]",
      "text/plain": [
       "<Figure size 432x288 with 1 Axes>"
      ]
     },
     "metadata": {
      "needs_background": "light"
     },
     "output_type": "display_data"
    }
   ],
   "source": [
    "from sklearn.model_selection import learning_curve\n",
    "\n",
    "train_sizes, train_scores, test_scores = learning_curve(rf_test1, \n",
    "                                                        X=X, \n",
    "                                                        y=y,\n",
    "                                                        # Number of folds in cross-validation\n",
    "                                                        cv=10,\n",
    "                                                        # Evaluation metric\n",
    "                                                        scoring='roc_auc',\n",
    "                                                        # Use all computer cores\n",
    "                                                        n_jobs=-1, \n",
    "                                                        # 50 different sizes of the training set\n",
    "                                                        train_sizes=np.linspace(0.01, 1.0, 50))\n",
    "\n",
    "# Create means and standard deviations of training set scores\n",
    "train_mean = np.mean(train_scores, axis=1)\n",
    "train_std = np.std(train_scores, axis=1)\n",
    "\n",
    "# Create means and standard deviations of test set scores\n",
    "test_mean = np.mean(test_scores, axis=1)\n",
    "test_std = np.std(test_scores, axis=1)\n",
    "\n",
    "# Draw lines\n",
    "plt.plot(train_sizes, train_mean, '--', color=\"#111111\",  label=\"Training score\")\n",
    "plt.plot(train_sizes, test_mean, color=\"#111111\", label=\"Cross-validation score\")\n",
    "\n",
    "# Draw bands\n",
    "plt.fill_between(train_sizes, train_mean - train_std, train_mean + train_std, color=\"#DDDDDD\")\n",
    "plt.fill_between(train_sizes, test_mean - test_std, test_mean + test_std, color=\"#DDDDDD\")\n",
    "\n",
    "# Create plot\n",
    "plt.title(\"Learning Curve\")\n",
    "plt.xlabel(\"Training Set Size\"), plt.ylabel(\"Score\"), plt.legend(loc=\"best\")\n",
    "plt.tight_layout()\n",
    "plt.savefig('./testmodel_learningcurve.png')\n",
    "plt.show()"
   ]
  },
  {
   "cell_type": "markdown",
   "id": "90a573cc",
   "metadata": {},
   "source": [
    "---"
   ]
  },
  {
   "cell_type": "markdown",
   "id": "c792ee39",
   "metadata": {},
   "source": [
    "model建置 ->針對imbalenced data 不能使用 accuracy 當作評分標準\n",
    "\n",
    "類別資料(onehot)太多會影響隨機森林的效能"
   ]
  }
 ],
 "metadata": {
  "kernelspec": {
   "display_name": "Python 3",
   "language": "python",
   "name": "python3"
  },
  "language_info": {
   "codemirror_mode": {
    "name": "ipython",
    "version": 3
   },
   "file_extension": ".py",
   "mimetype": "text/x-python",
   "name": "python",
   "nbconvert_exporter": "python",
   "pygments_lexer": "ipython3",
   "version": "3.7.10"
  }
 },
 "nbformat": 4,
 "nbformat_minor": 5
}
